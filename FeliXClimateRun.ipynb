{
 "cells": [
  {
   "cell_type": "code",
   "execution_count": null,
   "id": "a1734eff",
   "metadata": {},
   "outputs": [],
   "source": [
    "import os\n",
    "import numpy as np\n",
    "import pandas as pd\n",
    "from pathlib import Path\n",
    "import scipy.optimize\n",
    "\n",
    "\n",
    "import pysd\n",
    "import pysd.translators.vensim.vensim_file\n",
    "import matplotlib.pyplot as plt "
   ]
  },
  {
   "cell_type": "code",
   "execution_count": null,
   "id": "4eec8889",
   "metadata": {},
   "outputs": [],
   "source": [
    "#read mdl file, converts it into python\n",
    "model = pysd.read_vensim('PYSDCookBookTests/SI_Model.mdl')\n",
    "#model = pysd.read_vensim('PYSDCookBookTests/Teacup.mdl')\n",
    "\n",
    "#load existing py file\n",
    "model = pysd.load('PYSDCookBookTests/SI_Model.py')\n",
    "#model = pysd.load('PYSDCookBookTests/Teacup.mdl')"
   ]
  },
  {
   "cell_type": "code",
   "execution_count": null,
   "id": "6e6a3333",
   "metadata": {},
   "outputs": [],
   "source": [
    "# model documentation\n",
    "model.doc"
   ]
  },
  {
   "cell_type": "code",
   "execution_count": null,
   "id": "d4565aee",
   "metadata": {},
   "outputs": [],
   "source": [
    "# run model\n",
    "stocks = model.run(params={'total_population': 5},\n",
    "                   return_columns=['population_infected_with_ebola'],\n",
    "                   return_timestamps = np.arange(0, 44, 1))\n",
    "\n",
    "# plot random variables\n",
    "plt.plot(stocks.index, stocks['population_infected_with_ebola'], label='Simulated')\n",
    "plt.xlabel('Time [Days]')\n",
    "plt.ylabel('Cumulative Infections')\n",
    "plt.title('population_infected_with_ebola')\n",
    "plt.legend(loc='lower right')"
   ]
  }
 ],
 "metadata": {
  "language_info": {
   "name": "python"
  }
 },
 "nbformat": 4,
 "nbformat_minor": 5
}
